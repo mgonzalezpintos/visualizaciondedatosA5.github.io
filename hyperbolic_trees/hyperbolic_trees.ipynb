{
 "cells": [
  {
   "cell_type": "code",
   "execution_count": 37,
   "id": "238f40ef",
   "metadata": {},
   "outputs": [],
   "source": [
    "import pandas as pd\n",
    "import matplotlib.pyplot as plt\n",
    "\n",
    "%matplotlib inline\n"
   ]
  },
  {
   "cell_type": "code",
   "execution_count": 38,
   "id": "784e8dff",
   "metadata": {},
   "outputs": [
    {
     "data": {
      "text/html": [
       "<div>\n",
       "<style scoped>\n",
       "    .dataframe tbody tr th:only-of-type {\n",
       "        vertical-align: middle;\n",
       "    }\n",
       "\n",
       "    .dataframe tbody tr th {\n",
       "        vertical-align: top;\n",
       "    }\n",
       "\n",
       "    .dataframe thead th {\n",
       "        text-align: right;\n",
       "    }\n",
       "</style>\n",
       "<table border=\"1\" class=\"dataframe\">\n",
       "  <thead>\n",
       "    <tr style=\"text-align: right;\">\n",
       "      <th></th>\n",
       "      <th>Unnamed: 0</th>\n",
       "      <th>Animal Name</th>\n",
       "      <th>Kingdom</th>\n",
       "      <th>Phylum</th>\n",
       "      <th>Subphylum</th>\n",
       "      <th>Class</th>\n",
       "      <th>Subclass</th>\n",
       "      <th>Infraclass</th>\n",
       "      <th>Order</th>\n",
       "      <th>Superorder</th>\n",
       "      <th>Suborder</th>\n",
       "      <th>Infraorder</th>\n",
       "      <th>Family</th>\n",
       "      <th>Superfamily</th>\n",
       "      <th>Subfamily</th>\n",
       "      <th>Genus</th>\n",
       "      <th>Subgenus</th>\n",
       "      <th>Tribe</th>\n",
       "      <th>Clade</th>\n",
       "    </tr>\n",
       "  </thead>\n",
       "  <tbody>\n",
       "    <tr>\n",
       "      <th>0</th>\n",
       "      <td>0</td>\n",
       "      <td>Arctic Wolf</td>\n",
       "      <td>Animalia</td>\n",
       "      <td>Chordata</td>\n",
       "      <td>Vertebrata</td>\n",
       "      <td>Mammalia</td>\n",
       "      <td>NaN</td>\n",
       "      <td>NaN</td>\n",
       "      <td>Carnivora</td>\n",
       "      <td>NaN</td>\n",
       "      <td>Caniformia</td>\n",
       "      <td>NaN</td>\n",
       "      <td>Canidae</td>\n",
       "      <td>NaN</td>\n",
       "      <td>NaN</td>\n",
       "      <td>Canis</td>\n",
       "      <td>NaN</td>\n",
       "      <td>NaN</td>\n",
       "      <td>NaN</td>\n",
       "    </tr>\n",
       "    <tr>\n",
       "      <th>1</th>\n",
       "      <td>1</td>\n",
       "      <td>Arctic Fox</td>\n",
       "      <td>Animalia</td>\n",
       "      <td>Chordata</td>\n",
       "      <td>Vertebrata</td>\n",
       "      <td>Mammalia</td>\n",
       "      <td>NaN</td>\n",
       "      <td>NaN</td>\n",
       "      <td>Carnivora</td>\n",
       "      <td>NaN</td>\n",
       "      <td>Caniformia</td>\n",
       "      <td>NaN</td>\n",
       "      <td>Canidae</td>\n",
       "      <td>NaN</td>\n",
       "      <td>NaN</td>\n",
       "      <td>Vulpes</td>\n",
       "      <td>NaN</td>\n",
       "      <td>NaN</td>\n",
       "      <td>NaN</td>\n",
       "    </tr>\n",
       "    <tr>\n",
       "      <th>2</th>\n",
       "      <td>2</td>\n",
       "      <td>Pink Fairy Armadillo</td>\n",
       "      <td>Animalia</td>\n",
       "      <td>Chordata</td>\n",
       "      <td>Vertebrata</td>\n",
       "      <td>Mammalia</td>\n",
       "      <td>NaN</td>\n",
       "      <td>NaN</td>\n",
       "      <td>Cingulata</td>\n",
       "      <td>NaN</td>\n",
       "      <td>NaN</td>\n",
       "      <td>NaN</td>\n",
       "      <td>Chlamyphoridae</td>\n",
       "      <td>NaN</td>\n",
       "      <td>Chlamyphorinae</td>\n",
       "      <td>Chlamyphorus</td>\n",
       "      <td>NaN</td>\n",
       "      <td>NaN</td>\n",
       "      <td>NaN</td>\n",
       "    </tr>\n",
       "    <tr>\n",
       "      <th>3</th>\n",
       "      <td>3</td>\n",
       "      <td>Sumatran Elephant</td>\n",
       "      <td>Animalia</td>\n",
       "      <td>Chordata</td>\n",
       "      <td>Vertebrata</td>\n",
       "      <td>Mammalia</td>\n",
       "      <td>NaN</td>\n",
       "      <td>NaN</td>\n",
       "      <td>Proboscidea</td>\n",
       "      <td>NaN</td>\n",
       "      <td>NaN</td>\n",
       "      <td>NaN</td>\n",
       "      <td>Elephantidae</td>\n",
       "      <td>NaN</td>\n",
       "      <td>NaN</td>\n",
       "      <td>Elephas</td>\n",
       "      <td>NaN</td>\n",
       "      <td>NaN</td>\n",
       "      <td>NaN</td>\n",
       "    </tr>\n",
       "    <tr>\n",
       "      <th>4</th>\n",
       "      <td>4</td>\n",
       "      <td>Ermine</td>\n",
       "      <td>Animalia</td>\n",
       "      <td>Chordata</td>\n",
       "      <td>Vertebrata</td>\n",
       "      <td>Mammalia</td>\n",
       "      <td>NaN</td>\n",
       "      <td>NaN</td>\n",
       "      <td>Carnivora</td>\n",
       "      <td>NaN</td>\n",
       "      <td>Caniformia</td>\n",
       "      <td>NaN</td>\n",
       "      <td>Mustelidae</td>\n",
       "      <td>NaN</td>\n",
       "      <td>Mustelinae</td>\n",
       "      <td>Mustela</td>\n",
       "      <td>NaN</td>\n",
       "      <td>NaN</td>\n",
       "      <td>NaN</td>\n",
       "    </tr>\n",
       "    <tr>\n",
       "      <th>...</th>\n",
       "      <td>...</td>\n",
       "      <td>...</td>\n",
       "      <td>...</td>\n",
       "      <td>...</td>\n",
       "      <td>...</td>\n",
       "      <td>...</td>\n",
       "      <td>...</td>\n",
       "      <td>...</td>\n",
       "      <td>...</td>\n",
       "      <td>...</td>\n",
       "      <td>...</td>\n",
       "      <td>...</td>\n",
       "      <td>...</td>\n",
       "      <td>...</td>\n",
       "      <td>...</td>\n",
       "      <td>...</td>\n",
       "      <td>...</td>\n",
       "      <td>...</td>\n",
       "      <td>...</td>\n",
       "    </tr>\n",
       "    <tr>\n",
       "      <th>1344</th>\n",
       "      <td>1344</td>\n",
       "      <td>Southern Ground Hornbil</td>\n",
       "      <td>Animalia</td>\n",
       "      <td>Chordata</td>\n",
       "      <td>NaN</td>\n",
       "      <td>Aves</td>\n",
       "      <td>NaN</td>\n",
       "      <td>NaN</td>\n",
       "      <td>Bucerotiformes</td>\n",
       "      <td>NaN</td>\n",
       "      <td>NaN</td>\n",
       "      <td>NaN</td>\n",
       "      <td>Bucorvidae</td>\n",
       "      <td>NaN</td>\n",
       "      <td>NaN</td>\n",
       "      <td>Bucorvus</td>\n",
       "      <td>NaN</td>\n",
       "      <td>NaN</td>\n",
       "      <td>NaN</td>\n",
       "    </tr>\n",
       "    <tr>\n",
       "      <th>1345</th>\n",
       "      <td>1345</td>\n",
       "      <td>Scarlet Ibis</td>\n",
       "      <td>Animalia</td>\n",
       "      <td>Chordata</td>\n",
       "      <td>NaN</td>\n",
       "      <td>Aves</td>\n",
       "      <td>Neornithes</td>\n",
       "      <td>Neognathae</td>\n",
       "      <td>Pelecaniformes</td>\n",
       "      <td>Neoaves</td>\n",
       "      <td>NaN</td>\n",
       "      <td>NaN</td>\n",
       "      <td>Threskiornithidae</td>\n",
       "      <td>NaN</td>\n",
       "      <td>NaN</td>\n",
       "      <td>Eudocimus</td>\n",
       "      <td>NaN</td>\n",
       "      <td>NaN</td>\n",
       "      <td>NaN</td>\n",
       "    </tr>\n",
       "    <tr>\n",
       "      <th>1346</th>\n",
       "      <td>1346</td>\n",
       "      <td>Rufous Hummingbird</td>\n",
       "      <td>Animalia</td>\n",
       "      <td>Chordata</td>\n",
       "      <td>NaN</td>\n",
       "      <td>Aves</td>\n",
       "      <td>NaN</td>\n",
       "      <td>NaN</td>\n",
       "      <td>Apodiformes</td>\n",
       "      <td>NaN</td>\n",
       "      <td>NaN</td>\n",
       "      <td>NaN</td>\n",
       "      <td>Trochilidae</td>\n",
       "      <td>NaN</td>\n",
       "      <td>NaN</td>\n",
       "      <td>Selasphorus</td>\n",
       "      <td>NaN</td>\n",
       "      <td>NaN</td>\n",
       "      <td>NaN</td>\n",
       "    </tr>\n",
       "    <tr>\n",
       "      <th>1347</th>\n",
       "      <td>1347</td>\n",
       "      <td>Crested Ibis</td>\n",
       "      <td>Animalia</td>\n",
       "      <td>Chordata</td>\n",
       "      <td>NaN</td>\n",
       "      <td>Aves</td>\n",
       "      <td>Neornithes</td>\n",
       "      <td>Neognathae</td>\n",
       "      <td>Pelecaniformes</td>\n",
       "      <td>Neoaves</td>\n",
       "      <td>NaN</td>\n",
       "      <td>NaN</td>\n",
       "      <td>Threskiornithidae</td>\n",
       "      <td>NaN</td>\n",
       "      <td>NaN</td>\n",
       "      <td>Nipponia</td>\n",
       "      <td>NaN</td>\n",
       "      <td>NaN</td>\n",
       "      <td>NaN</td>\n",
       "    </tr>\n",
       "    <tr>\n",
       "      <th>1348</th>\n",
       "      <td>1348</td>\n",
       "      <td>Northern Goshawk</td>\n",
       "      <td>Animalia</td>\n",
       "      <td>Chordata</td>\n",
       "      <td>NaN</td>\n",
       "      <td>Aves</td>\n",
       "      <td>NaN</td>\n",
       "      <td>NaN</td>\n",
       "      <td>Accipitriformes</td>\n",
       "      <td>NaN</td>\n",
       "      <td>NaN</td>\n",
       "      <td>NaN</td>\n",
       "      <td>Accipitridae</td>\n",
       "      <td>NaN</td>\n",
       "      <td>NaN</td>\n",
       "      <td>Accipiter</td>\n",
       "      <td>NaN</td>\n",
       "      <td>NaN</td>\n",
       "      <td>NaN</td>\n",
       "    </tr>\n",
       "  </tbody>\n",
       "</table>\n",
       "<p>1349 rows × 19 columns</p>\n",
       "</div>"
      ],
      "text/plain": [
       "      Unnamed: 0              Animal Name   Kingdom    Phylum   Subphylum  \\\n",
       "0              0              Arctic Wolf  Animalia  Chordata  Vertebrata   \n",
       "1              1               Arctic Fox  Animalia  Chordata  Vertebrata   \n",
       "2              2     Pink Fairy Armadillo  Animalia  Chordata  Vertebrata   \n",
       "3              3        Sumatran Elephant  Animalia  Chordata  Vertebrata   \n",
       "4              4                   Ermine  Animalia  Chordata  Vertebrata   \n",
       "...          ...                      ...       ...       ...         ...   \n",
       "1344        1344  Southern Ground Hornbil  Animalia  Chordata         NaN   \n",
       "1345        1345             Scarlet Ibis  Animalia  Chordata         NaN   \n",
       "1346        1346       Rufous Hummingbird  Animalia  Chordata         NaN   \n",
       "1347        1347             Crested Ibis  Animalia  Chordata         NaN   \n",
       "1348        1348         Northern Goshawk  Animalia  Chordata         NaN   \n",
       "\n",
       "         Class    Subclass  Infraclass            Order Superorder  \\\n",
       "0     Mammalia         NaN         NaN        Carnivora        NaN   \n",
       "1     Mammalia         NaN         NaN        Carnivora        NaN   \n",
       "2     Mammalia         NaN         NaN        Cingulata        NaN   \n",
       "3     Mammalia         NaN         NaN      Proboscidea        NaN   \n",
       "4     Mammalia         NaN         NaN        Carnivora        NaN   \n",
       "...        ...         ...         ...              ...        ...   \n",
       "1344      Aves         NaN         NaN   Bucerotiformes        NaN   \n",
       "1345      Aves  Neornithes  Neognathae   Pelecaniformes    Neoaves   \n",
       "1346      Aves         NaN         NaN      Apodiformes        NaN   \n",
       "1347      Aves  Neornithes  Neognathae   Pelecaniformes    Neoaves   \n",
       "1348      Aves         NaN         NaN  Accipitriformes        NaN   \n",
       "\n",
       "        Suborder Infraorder             Family Superfamily       Subfamily  \\\n",
       "0     Caniformia        NaN            Canidae         NaN             NaN   \n",
       "1     Caniformia        NaN            Canidae         NaN             NaN   \n",
       "2            NaN        NaN     Chlamyphoridae         NaN  Chlamyphorinae   \n",
       "3            NaN        NaN       Elephantidae         NaN             NaN   \n",
       "4     Caniformia        NaN         Mustelidae         NaN      Mustelinae   \n",
       "...          ...        ...                ...         ...             ...   \n",
       "1344         NaN        NaN         Bucorvidae         NaN             NaN   \n",
       "1345         NaN        NaN  Threskiornithidae         NaN             NaN   \n",
       "1346         NaN        NaN        Trochilidae         NaN             NaN   \n",
       "1347         NaN        NaN  Threskiornithidae         NaN             NaN   \n",
       "1348         NaN        NaN       Accipitridae         NaN             NaN   \n",
       "\n",
       "             Genus Subgenus Tribe Clade  \n",
       "0            Canis      NaN   NaN   NaN  \n",
       "1           Vulpes      NaN   NaN   NaN  \n",
       "2     Chlamyphorus      NaN   NaN   NaN  \n",
       "3          Elephas      NaN   NaN   NaN  \n",
       "4          Mustela      NaN   NaN   NaN  \n",
       "...            ...      ...   ...   ...  \n",
       "1344      Bucorvus      NaN   NaN   NaN  \n",
       "1345     Eudocimus      NaN   NaN   NaN  \n",
       "1346   Selasphorus      NaN   NaN   NaN  \n",
       "1347      Nipponia      NaN   NaN   NaN  \n",
       "1348     Accipiter      NaN   NaN   NaN  \n",
       "\n",
       "[1349 rows x 19 columns]"
      ]
     },
     "execution_count": 38,
     "metadata": {},
     "output_type": "execute_result"
    }
   ],
   "source": [
    "data_df = pd.read_csv(\"animals.csv\")\n",
    "data_df"
   ]
  },
  {
   "cell_type": "code",
   "execution_count": 39,
   "id": "6d2cab8a",
   "metadata": {},
   "outputs": [],
   "source": [
    "# Animal Name, Kingdom, Phylum, Class, Order, Family, Genus\n",
    "\n",
    "nice_columns=['Animal Name', 'Kingdom', 'Phylum', 'Class', 'Order', 'Family', 'Genus']"
   ]
  },
  {
   "cell_type": "code",
   "execution_count": 40,
   "id": "009a5ef5",
   "metadata": {},
   "outputs": [
    {
     "data": {
      "text/html": [
       "<div>\n",
       "<style scoped>\n",
       "    .dataframe tbody tr th:only-of-type {\n",
       "        vertical-align: middle;\n",
       "    }\n",
       "\n",
       "    .dataframe tbody tr th {\n",
       "        vertical-align: top;\n",
       "    }\n",
       "\n",
       "    .dataframe thead th {\n",
       "        text-align: right;\n",
       "    }\n",
       "</style>\n",
       "<table border=\"1\" class=\"dataframe\">\n",
       "  <thead>\n",
       "    <tr style=\"text-align: right;\">\n",
       "      <th></th>\n",
       "      <th>Animal Name</th>\n",
       "      <th>Kingdom</th>\n",
       "      <th>Phylum</th>\n",
       "      <th>Class</th>\n",
       "      <th>Order</th>\n",
       "      <th>Family</th>\n",
       "      <th>Genus</th>\n",
       "    </tr>\n",
       "  </thead>\n",
       "  <tbody>\n",
       "    <tr>\n",
       "      <th>0</th>\n",
       "      <td>Arctic Wolf</td>\n",
       "      <td>Animalia</td>\n",
       "      <td>Chordata</td>\n",
       "      <td>Mammalia</td>\n",
       "      <td>Carnivora</td>\n",
       "      <td>Canidae</td>\n",
       "      <td>Canis</td>\n",
       "    </tr>\n",
       "    <tr>\n",
       "      <th>1</th>\n",
       "      <td>Arctic Fox</td>\n",
       "      <td>Animalia</td>\n",
       "      <td>Chordata</td>\n",
       "      <td>Mammalia</td>\n",
       "      <td>Carnivora</td>\n",
       "      <td>Canidae</td>\n",
       "      <td>Vulpes</td>\n",
       "    </tr>\n",
       "    <tr>\n",
       "      <th>2</th>\n",
       "      <td>Pink Fairy Armadillo</td>\n",
       "      <td>Animalia</td>\n",
       "      <td>Chordata</td>\n",
       "      <td>Mammalia</td>\n",
       "      <td>Cingulata</td>\n",
       "      <td>Chlamyphoridae</td>\n",
       "      <td>Chlamyphorus</td>\n",
       "    </tr>\n",
       "    <tr>\n",
       "      <th>3</th>\n",
       "      <td>Sumatran Elephant</td>\n",
       "      <td>Animalia</td>\n",
       "      <td>Chordata</td>\n",
       "      <td>Mammalia</td>\n",
       "      <td>Proboscidea</td>\n",
       "      <td>Elephantidae</td>\n",
       "      <td>Elephas</td>\n",
       "    </tr>\n",
       "    <tr>\n",
       "      <th>4</th>\n",
       "      <td>Ermine</td>\n",
       "      <td>Animalia</td>\n",
       "      <td>Chordata</td>\n",
       "      <td>Mammalia</td>\n",
       "      <td>Carnivora</td>\n",
       "      <td>Mustelidae</td>\n",
       "      <td>Mustela</td>\n",
       "    </tr>\n",
       "    <tr>\n",
       "      <th>...</th>\n",
       "      <td>...</td>\n",
       "      <td>...</td>\n",
       "      <td>...</td>\n",
       "      <td>...</td>\n",
       "      <td>...</td>\n",
       "      <td>...</td>\n",
       "      <td>...</td>\n",
       "    </tr>\n",
       "    <tr>\n",
       "      <th>1344</th>\n",
       "      <td>Southern Ground Hornbil</td>\n",
       "      <td>Animalia</td>\n",
       "      <td>Chordata</td>\n",
       "      <td>Aves</td>\n",
       "      <td>Bucerotiformes</td>\n",
       "      <td>Bucorvidae</td>\n",
       "      <td>Bucorvus</td>\n",
       "    </tr>\n",
       "    <tr>\n",
       "      <th>1345</th>\n",
       "      <td>Scarlet Ibis</td>\n",
       "      <td>Animalia</td>\n",
       "      <td>Chordata</td>\n",
       "      <td>Aves</td>\n",
       "      <td>Pelecaniformes</td>\n",
       "      <td>Threskiornithidae</td>\n",
       "      <td>Eudocimus</td>\n",
       "    </tr>\n",
       "    <tr>\n",
       "      <th>1346</th>\n",
       "      <td>Rufous Hummingbird</td>\n",
       "      <td>Animalia</td>\n",
       "      <td>Chordata</td>\n",
       "      <td>Aves</td>\n",
       "      <td>Apodiformes</td>\n",
       "      <td>Trochilidae</td>\n",
       "      <td>Selasphorus</td>\n",
       "    </tr>\n",
       "    <tr>\n",
       "      <th>1347</th>\n",
       "      <td>Crested Ibis</td>\n",
       "      <td>Animalia</td>\n",
       "      <td>Chordata</td>\n",
       "      <td>Aves</td>\n",
       "      <td>Pelecaniformes</td>\n",
       "      <td>Threskiornithidae</td>\n",
       "      <td>Nipponia</td>\n",
       "    </tr>\n",
       "    <tr>\n",
       "      <th>1348</th>\n",
       "      <td>Northern Goshawk</td>\n",
       "      <td>Animalia</td>\n",
       "      <td>Chordata</td>\n",
       "      <td>Aves</td>\n",
       "      <td>Accipitriformes</td>\n",
       "      <td>Accipitridae</td>\n",
       "      <td>Accipiter</td>\n",
       "    </tr>\n",
       "  </tbody>\n",
       "</table>\n",
       "<p>1349 rows × 7 columns</p>\n",
       "</div>"
      ],
      "text/plain": [
       "                  Animal Name   Kingdom    Phylum     Class            Order  \\\n",
       "0                 Arctic Wolf  Animalia  Chordata  Mammalia        Carnivora   \n",
       "1                  Arctic Fox  Animalia  Chordata  Mammalia        Carnivora   \n",
       "2        Pink Fairy Armadillo  Animalia  Chordata  Mammalia        Cingulata   \n",
       "3           Sumatran Elephant  Animalia  Chordata  Mammalia      Proboscidea   \n",
       "4                      Ermine  Animalia  Chordata  Mammalia        Carnivora   \n",
       "...                       ...       ...       ...       ...              ...   \n",
       "1344  Southern Ground Hornbil  Animalia  Chordata      Aves   Bucerotiformes   \n",
       "1345             Scarlet Ibis  Animalia  Chordata      Aves   Pelecaniformes   \n",
       "1346       Rufous Hummingbird  Animalia  Chordata      Aves      Apodiformes   \n",
       "1347             Crested Ibis  Animalia  Chordata      Aves   Pelecaniformes   \n",
       "1348         Northern Goshawk  Animalia  Chordata      Aves  Accipitriformes   \n",
       "\n",
       "                 Family         Genus  \n",
       "0               Canidae         Canis  \n",
       "1               Canidae        Vulpes  \n",
       "2        Chlamyphoridae  Chlamyphorus  \n",
       "3          Elephantidae       Elephas  \n",
       "4            Mustelidae       Mustela  \n",
       "...                 ...           ...  \n",
       "1344         Bucorvidae      Bucorvus  \n",
       "1345  Threskiornithidae     Eudocimus  \n",
       "1346        Trochilidae   Selasphorus  \n",
       "1347  Threskiornithidae      Nipponia  \n",
       "1348       Accipitridae     Accipiter  \n",
       "\n",
       "[1349 rows x 7 columns]"
      ]
     },
     "execution_count": 40,
     "metadata": {},
     "output_type": "execute_result"
    }
   ],
   "source": [
    "new_data=data_df[data_df.columns.intersection(nice_columns)]\n",
    "new_data"
   ]
  },
  {
   "cell_type": "code",
   "execution_count": 41,
   "id": "572f7675",
   "metadata": {},
   "outputs": [
    {
     "data": {
      "text/plain": [
       "array(['Mammalia', 'Reptilia', 'Aves'], dtype=object)"
      ]
     },
     "execution_count": 41,
     "metadata": {},
     "output_type": "execute_result"
    }
   ],
   "source": [
    "new_data[\"Class\"].unique()"
   ]
  },
  {
   "cell_type": "code",
   "execution_count": 42,
   "id": "6e0f81ce",
   "metadata": {},
   "outputs": [
    {
     "data": {
      "text/plain": [
       "206"
      ]
     },
     "execution_count": 42,
     "metadata": {},
     "output_type": "execute_result"
    }
   ],
   "source": [
    "len(new_data[new_data[\"Class\"]==\"Reptilia\"])"
   ]
  },
  {
   "cell_type": "code",
   "execution_count": 43,
   "id": "4155c169",
   "metadata": {},
   "outputs": [],
   "source": [
    "reptiles_df = new_data[new_data[\"Class\"]==\"Reptilia\"]"
   ]
  },
  {
   "cell_type": "code",
   "execution_count": 44,
   "id": "1a986005",
   "metadata": {},
   "outputs": [
    {
     "data": {
      "text/plain": [
       "array(['Squamata', 'Testudines', 'Crocodilia'], dtype=object)"
      ]
     },
     "execution_count": 44,
     "metadata": {},
     "output_type": "execute_result"
    }
   ],
   "source": [
    "reptiles_df[\"Order\"].unique()"
   ]
  },
  {
   "cell_type": "code",
   "execution_count": 45,
   "id": "5387a90b",
   "metadata": {},
   "outputs": [
    {
     "data": {
      "text/plain": [
       "22"
      ]
     },
     "execution_count": 45,
     "metadata": {},
     "output_type": "execute_result"
    }
   ],
   "source": [
    "len(reptiles_df[reptiles_df[\"Order\"]==\"Squamata\"][\"Family\"].unique())"
   ]
  },
  {
   "cell_type": "code",
   "execution_count": 46,
   "id": "41eb3757",
   "metadata": {},
   "outputs": [
    {
     "data": {
      "text/plain": [
       "6"
      ]
     },
     "execution_count": 46,
     "metadata": {},
     "output_type": "execute_result"
    }
   ],
   "source": [
    "len(reptiles_df[reptiles_df[\"Order\"]==\"Testudines\"][\"Family\"].unique())"
   ]
  },
  {
   "cell_type": "code",
   "execution_count": 47,
   "id": "651e2deb",
   "metadata": {},
   "outputs": [
    {
     "data": {
      "text/plain": [
       "3"
      ]
     },
     "execution_count": 47,
     "metadata": {},
     "output_type": "execute_result"
    }
   ],
   "source": [
    "len(reptiles_df[reptiles_df[\"Order\"]==\"Crocodilia\"][\"Family\"].unique())"
   ]
  },
  {
   "cell_type": "code",
   "execution_count": 48,
   "id": "828eb3d9",
   "metadata": {},
   "outputs": [],
   "source": [
    "final_reptiles_df = reptiles_df[reptiles_df['Order'].isin(['Testudines','Crocodilia'])]"
   ]
  },
  {
   "cell_type": "code",
   "execution_count": 49,
   "id": "12415df4",
   "metadata": {},
   "outputs": [
    {
     "data": {
      "text/html": [
       "<div>\n",
       "<style scoped>\n",
       "    .dataframe tbody tr th:only-of-type {\n",
       "        vertical-align: middle;\n",
       "    }\n",
       "\n",
       "    .dataframe tbody tr th {\n",
       "        vertical-align: top;\n",
       "    }\n",
       "\n",
       "    .dataframe thead th {\n",
       "        text-align: right;\n",
       "    }\n",
       "</style>\n",
       "<table border=\"1\" class=\"dataframe\">\n",
       "  <thead>\n",
       "    <tr style=\"text-align: right;\">\n",
       "      <th></th>\n",
       "      <th>Animal Name</th>\n",
       "      <th>Kingdom</th>\n",
       "      <th>Phylum</th>\n",
       "      <th>Class</th>\n",
       "      <th>Order</th>\n",
       "      <th>Family</th>\n",
       "      <th>Genus</th>\n",
       "    </tr>\n",
       "  </thead>\n",
       "  <tbody>\n",
       "    <tr>\n",
       "      <th>816</th>\n",
       "      <td>Texas Tortoise</td>\n",
       "      <td>Animalia</td>\n",
       "      <td>Chordata</td>\n",
       "      <td>Reptilia</td>\n",
       "      <td>Testudines</td>\n",
       "      <td>Testudinidae</td>\n",
       "      <td>Gopherus</td>\n",
       "    </tr>\n",
       "    <tr>\n",
       "      <th>817</th>\n",
       "      <td>Indian Star Tortoise</td>\n",
       "      <td>Animalia</td>\n",
       "      <td>Chordata</td>\n",
       "      <td>Reptilia</td>\n",
       "      <td>Testudines</td>\n",
       "      <td>Testudinidae</td>\n",
       "      <td>Geochelone</td>\n",
       "    </tr>\n",
       "    <tr>\n",
       "      <th>820</th>\n",
       "      <td>Nile Crocodile</td>\n",
       "      <td>Animalia</td>\n",
       "      <td>Chordata</td>\n",
       "      <td>Reptilia</td>\n",
       "      <td>Crocodilia</td>\n",
       "      <td>Crocodylidae</td>\n",
       "      <td>Crocodylus</td>\n",
       "    </tr>\n",
       "    <tr>\n",
       "      <th>821</th>\n",
       "      <td>Egyptian Tortoise</td>\n",
       "      <td>Animalia</td>\n",
       "      <td>Chordata</td>\n",
       "      <td>Reptilia</td>\n",
       "      <td>Testudines</td>\n",
       "      <td>Testudinidae</td>\n",
       "      <td>Testudo</td>\n",
       "    </tr>\n",
       "    <tr>\n",
       "      <th>822</th>\n",
       "      <td>Philippine Crocodile</td>\n",
       "      <td>Animalia</td>\n",
       "      <td>Chordata</td>\n",
       "      <td>Reptilia</td>\n",
       "      <td>Crocodilia</td>\n",
       "      <td>Crocodylidae</td>\n",
       "      <td>Crocodylus</td>\n",
       "    </tr>\n",
       "    <tr>\n",
       "      <th>...</th>\n",
       "      <td>...</td>\n",
       "      <td>...</td>\n",
       "      <td>...</td>\n",
       "      <td>...</td>\n",
       "      <td>...</td>\n",
       "      <td>...</td>\n",
       "      <td>...</td>\n",
       "    </tr>\n",
       "    <tr>\n",
       "      <th>978</th>\n",
       "      <td>Mata Mata</td>\n",
       "      <td>Animalia</td>\n",
       "      <td>Chordata</td>\n",
       "      <td>Reptilia</td>\n",
       "      <td>Testudines</td>\n",
       "      <td>Chelidae</td>\n",
       "      <td>Chelus</td>\n",
       "    </tr>\n",
       "    <tr>\n",
       "      <th>980</th>\n",
       "      <td>Eastern Box Turtle</td>\n",
       "      <td>Animalia</td>\n",
       "      <td>Chordata</td>\n",
       "      <td>Reptilia</td>\n",
       "      <td>Testudines</td>\n",
       "      <td>Emydidae</td>\n",
       "      <td>Terrapene</td>\n",
       "    </tr>\n",
       "    <tr>\n",
       "      <th>994</th>\n",
       "      <td>Spiny Softshell Turtle</td>\n",
       "      <td>Animalia</td>\n",
       "      <td>Chordata</td>\n",
       "      <td>Reptilia</td>\n",
       "      <td>Testudines</td>\n",
       "      <td>Trionychidae</td>\n",
       "      <td>Apalone</td>\n",
       "    </tr>\n",
       "    <tr>\n",
       "      <th>996</th>\n",
       "      <td>Alabama Red-Bellied Turtle</td>\n",
       "      <td>Animalia</td>\n",
       "      <td>Chordata</td>\n",
       "      <td>Reptilia</td>\n",
       "      <td>Testudines</td>\n",
       "      <td>Emydidae</td>\n",
       "      <td>Pseudemys</td>\n",
       "    </tr>\n",
       "    <tr>\n",
       "      <th>1009</th>\n",
       "      <td>Florida Softshell Turtle</td>\n",
       "      <td>Animalia</td>\n",
       "      <td>Chordata</td>\n",
       "      <td>Reptilia</td>\n",
       "      <td>Testudines</td>\n",
       "      <td>Trionychidae</td>\n",
       "      <td>Apalone</td>\n",
       "    </tr>\n",
       "  </tbody>\n",
       "</table>\n",
       "<p>84 rows × 7 columns</p>\n",
       "</div>"
      ],
      "text/plain": [
       "                     Animal Name   Kingdom    Phylum     Class       Order  \\\n",
       "816               Texas Tortoise  Animalia  Chordata  Reptilia  Testudines   \n",
       "817         Indian Star Tortoise  Animalia  Chordata  Reptilia  Testudines   \n",
       "820               Nile Crocodile  Animalia  Chordata  Reptilia  Crocodilia   \n",
       "821            Egyptian Tortoise  Animalia  Chordata  Reptilia  Testudines   \n",
       "822         Philippine Crocodile  Animalia  Chordata  Reptilia  Crocodilia   \n",
       "...                          ...       ...       ...       ...         ...   \n",
       "978                    Mata Mata  Animalia  Chordata  Reptilia  Testudines   \n",
       "980           Eastern Box Turtle  Animalia  Chordata  Reptilia  Testudines   \n",
       "994       Spiny Softshell Turtle  Animalia  Chordata  Reptilia  Testudines   \n",
       "996   Alabama Red-Bellied Turtle  Animalia  Chordata  Reptilia  Testudines   \n",
       "1009    Florida Softshell Turtle  Animalia  Chordata  Reptilia  Testudines   \n",
       "\n",
       "            Family       Genus  \n",
       "816   Testudinidae    Gopherus  \n",
       "817   Testudinidae  Geochelone  \n",
       "820   Crocodylidae  Crocodylus  \n",
       "821   Testudinidae     Testudo  \n",
       "822   Crocodylidae  Crocodylus  \n",
       "...            ...         ...  \n",
       "978       Chelidae      Chelus  \n",
       "980       Emydidae   Terrapene  \n",
       "994   Trionychidae     Apalone  \n",
       "996       Emydidae   Pseudemys  \n",
       "1009  Trionychidae     Apalone  \n",
       "\n",
       "[84 rows x 7 columns]"
      ]
     },
     "execution_count": 49,
     "metadata": {},
     "output_type": "execute_result"
    }
   ],
   "source": [
    "final_reptiles_df"
   ]
  },
  {
   "cell_type": "code",
   "execution_count": 50,
   "id": "f059e2f6",
   "metadata": {},
   "outputs": [],
   "source": [
    "final_reptiles_df.to_csv(\"reptiles.csv\")"
   ]
  },
  {
   "cell_type": "code",
   "execution_count": 51,
   "id": "5b03485f",
   "metadata": {},
   "outputs": [],
   "source": [
    "## Check data to represent it"
   ]
  },
  {
   "cell_type": "code",
   "execution_count": 52,
   "id": "e8c6aabd",
   "metadata": {},
   "outputs": [],
   "source": [
    "## Testudines order "
   ]
  },
  {
   "cell_type": "code",
   "execution_count": 53,
   "id": "d533f025",
   "metadata": {},
   "outputs": [],
   "source": [
    "testudines = final_reptiles_df[final_reptiles_df[\"Order\"]==\"Testudines\"]"
   ]
  },
  {
   "cell_type": "code",
   "execution_count": 54,
   "id": "f4589bf0",
   "metadata": {},
   "outputs": [
    {
     "data": {
      "text/plain": [
       "array(['Testudinidae', 'Cheloniidae', 'Chelidae', 'Chelydridae',\n",
       "       'Emydidae', 'Trionychidae'], dtype=object)"
      ]
     },
     "execution_count": 54,
     "metadata": {},
     "output_type": "execute_result"
    }
   ],
   "source": [
    "testudines[\"Family\"].unique()"
   ]
  },
  {
   "cell_type": "code",
   "execution_count": 55,
   "id": "02c16943",
   "metadata": {},
   "outputs": [
    {
     "data": {
      "text/plain": [
       "array(['Gopherus', 'Geochelone', 'Testudo', 'Centrochelys', 'Agrionemys',\n",
       "       'Stigmochelys', 'Chelonoidis', 'Astrochelys', 'Aldabrachelys',\n",
       "       'Malacochersus'], dtype=object)"
      ]
     },
     "execution_count": 55,
     "metadata": {},
     "output_type": "execute_result"
    }
   ],
   "source": [
    "testudines[testudines[\"Family\"]==\"Testudinidae\"][\"Genus\"].unique()"
   ]
  },
  {
   "cell_type": "code",
   "execution_count": 56,
   "id": "65877cc9",
   "metadata": {},
   "outputs": [
    {
     "data": {
      "text/plain": [
       "array(['Chelonia', 'Eretmochelys'], dtype=object)"
      ]
     },
     "execution_count": 56,
     "metadata": {},
     "output_type": "execute_result"
    }
   ],
   "source": [
    "testudines[testudines[\"Family\"]==\"Cheloniidae\"][\"Genus\"].unique()"
   ]
  },
  {
   "cell_type": "code",
   "execution_count": 57,
   "id": "afa84360",
   "metadata": {},
   "outputs": [
    {
     "data": {
      "text/plain": [
       "array(['Chelodina', 'Chelus'], dtype=object)"
      ]
     },
     "execution_count": 57,
     "metadata": {},
     "output_type": "execute_result"
    }
   ],
   "source": [
    "testudines[testudines[\"Family\"]==\"Chelidae\"][\"Genus\"].unique()"
   ]
  },
  {
   "cell_type": "code",
   "execution_count": 58,
   "id": "ee3a129a",
   "metadata": {},
   "outputs": [
    {
     "data": {
      "text/plain": [
       "array(['Chelydra', 'Macrochelys'], dtype=object)"
      ]
     },
     "execution_count": 58,
     "metadata": {},
     "output_type": "execute_result"
    }
   ],
   "source": [
    "testudines[testudines[\"Family\"]==\"Chelydridae\"][\"Genus\"].unique()"
   ]
  },
  {
   "cell_type": "code",
   "execution_count": 59,
   "id": "56abe41a",
   "metadata": {},
   "outputs": [
    {
     "data": {
      "text/plain": [
       "array(['Pseudemys', 'Malaclemys', 'Glyptemys', 'Actinemys', 'Trachemys',\n",
       "       'Chrysemys', 'Terrapene'], dtype=object)"
      ]
     },
     "execution_count": 59,
     "metadata": {},
     "output_type": "execute_result"
    }
   ],
   "source": [
    "testudines[testudines[\"Family\"]==\"Emydidae\"][\"Genus\"].unique()"
   ]
  },
  {
   "cell_type": "code",
   "execution_count": 60,
   "id": "f21e5a21",
   "metadata": {},
   "outputs": [
    {
     "data": {
      "text/plain": [
       "array(['Apalone'], dtype=object)"
      ]
     },
     "execution_count": 60,
     "metadata": {},
     "output_type": "execute_result"
    }
   ],
   "source": [
    "testudines[testudines[\"Family\"]==\"Trionychidae\"][\"Genus\"].unique()"
   ]
  },
  {
   "cell_type": "code",
   "execution_count": 61,
   "id": "a5123c75",
   "metadata": {},
   "outputs": [],
   "source": [
    "## Crocodilia order"
   ]
  },
  {
   "cell_type": "code",
   "execution_count": 62,
   "id": "30bc3046",
   "metadata": {},
   "outputs": [],
   "source": [
    "cocodrilos=final_reptiles_df[final_reptiles_df[\"Order\"]==\"Crocodilia\"]"
   ]
  },
  {
   "cell_type": "code",
   "execution_count": 63,
   "id": "4656e7cf",
   "metadata": {},
   "outputs": [
    {
     "data": {
      "text/plain": [
       "array(['Crocodylidae', 'Alligatoridae', 'Gavialidae'], dtype=object)"
      ]
     },
     "execution_count": 63,
     "metadata": {},
     "output_type": "execute_result"
    }
   ],
   "source": [
    "cocodrilos[\"Family\"].unique()"
   ]
  },
  {
   "cell_type": "code",
   "execution_count": 64,
   "id": "a4936209",
   "metadata": {},
   "outputs": [
    {
     "data": {
      "text/plain": [
       "array(['Crocodylus', 'Osteolaemus'], dtype=object)"
      ]
     },
     "execution_count": 64,
     "metadata": {},
     "output_type": "execute_result"
    }
   ],
   "source": [
    "cocodrilos[cocodrilos[\"Family\"]==\"Crocodylidae\"][\"Genus\"].unique()"
   ]
  },
  {
   "cell_type": "code",
   "execution_count": 65,
   "id": "e22a8a70",
   "metadata": {},
   "outputs": [
    {
     "data": {
      "text/plain": [
       "array(['Melanosuchus', 'Alligator', 'Caiman', 'Paleosuchus'], dtype=object)"
      ]
     },
     "execution_count": 65,
     "metadata": {},
     "output_type": "execute_result"
    }
   ],
   "source": [
    "cocodrilos[cocodrilos[\"Family\"]==\"Alligatoridae\"][\"Genus\"].unique()"
   ]
  },
  {
   "cell_type": "code",
   "execution_count": 66,
   "id": "d09bf40f",
   "metadata": {},
   "outputs": [
    {
     "data": {
      "text/plain": [
       "array(['Gavialis', 'Tomistoma'], dtype=object)"
      ]
     },
     "execution_count": 66,
     "metadata": {},
     "output_type": "execute_result"
    }
   ],
   "source": [
    "cocodrilos[cocodrilos[\"Family\"]==\"Gavialidae\"][\"Genus\"].unique()"
   ]
  },
  {
   "cell_type": "code",
   "execution_count": null,
   "id": "cd7eee59",
   "metadata": {},
   "outputs": [],
   "source": []
  }
 ],
 "metadata": {
  "kernelspec": {
   "display_name": "Python 3 (ipykernel)",
   "language": "python",
   "name": "python3"
  },
  "language_info": {
   "codemirror_mode": {
    "name": "ipython",
    "version": 3
   },
   "file_extension": ".py",
   "mimetype": "text/x-python",
   "name": "python",
   "nbconvert_exporter": "python",
   "pygments_lexer": "ipython3",
   "version": "3.9.12"
  }
 },
 "nbformat": 4,
 "nbformat_minor": 5
}
